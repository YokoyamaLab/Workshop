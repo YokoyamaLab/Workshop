{
 "cells": [
  {
   "cell_type": "code",
   "execution_count": 7,
   "metadata": {},
   "outputs": [
    {
     "name": "stdout",
     "output_type": "stream",
     "text": [
      "[0. 1. 2. 3. 4.]\n",
      "10.0\n",
      "2.0\n",
      "4.0\n",
      "0.0\n"
     ]
    }
   ],
   "source": [
    "import numpy as np\n",
    "a=np.arange(5.)\n",
    "print(a)\n",
    "print(a.sum())\n",
    "print(a.mean())\n",
    "print(a.max())\n",
    "print(a.min())"
   ]
  },
  {
   "cell_type": "code",
   "execution_count": 11,
   "metadata": {},
   "outputs": [
    {
     "name": "stdout",
     "output_type": "stream",
     "text": [
      "[[0. 1. 2.]\n",
      " [3. 4. 5.]\n",
      " [6. 7. 8.]]\n",
      "36.0\n",
      "[ 9. 12. 15.]\n",
      "[ 3. 12. 21.]\n"
     ]
    }
   ],
   "source": [
    "import numpy as np\n",
    "b=np.arange(9.).reshape(3,3)\n",
    "print(b)\n",
    "print(b.sum())\n",
    "print(b.sum(axis=0)) #列の和\n",
    "print(b.sum(axis=1))"
   ]
  },
  {
   "cell_type": "code",
   "execution_count": 12,
   "metadata": {},
   "outputs": [
    {
     "name": "stdout",
     "output_type": "stream",
     "text": [
      "[3. 4. 5. 6. 7.]\n",
      "[  20.08553692   54.59815003  148.4131591   403.42879349 1096.63315843]\n",
      "[1.09861229 1.38629436 1.60943791 1.79175947 1.94591015]\n",
      "[1.73205081 2.         2.23606798 2.44948974 2.64575131]\n",
      "[[0. 1. 2.]\n",
      " [3. 4. 5.]\n",
      " [6. 7. 8.]]\n",
      "[[1.00000000e+00 2.71828183e+00 7.38905610e+00]\n",
      " [2.00855369e+01 5.45981500e+01 1.48413159e+02]\n",
      " [4.03428793e+02 1.09663316e+03 2.98095799e+03]]\n"
     ]
    }
   ],
   "source": [
    "import numpy as np\n",
    "a=np.arange(3.,8.)\n",
    "print(a)\n",
    "print(np.exp(a))\n",
    "print(np.log(a))\n",
    "print(np.sqrt(a))\n",
    "b=np.arange(9.).reshape(3,3)\n",
    "print(b)\n",
    "print(np.exp(b))"
   ]
  },
  {
   "cell_type": "code",
   "execution_count": 13,
   "metadata": {},
   "outputs": [
    {
     "name": "stdout",
     "output_type": "stream",
     "text": [
      "[0 1 2 3 4]\n",
      "[3 4 5 6 7]\n",
      "[ 0  3  6  9 12]\n",
      "[ 0  1  4  9 16]\n",
      "[False False  True  True  True]\n",
      "[ True  True  True False  True]\n",
      "[[False False False]\n",
      " [False  True  True]\n",
      " [ True  True  True]]\n"
     ]
    }
   ],
   "source": [
    "import numpy as np\n",
    "a=np.arange(5)\n",
    "print(a)\n",
    "print(a+3)\n",
    "print(a*3)\n",
    "print(a**2)\n",
    "print(a>=2)\n",
    "print(a!=3)\n",
    "b=np.arange(9).reshape(3,3)\n",
    "print(b>3)"
   ]
  },
  {
   "cell_type": "code",
   "execution_count": 15,
   "metadata": {},
   "outputs": [
    {
     "name": "stdout",
     "output_type": "stream",
     "text": [
      "[20 30]\n",
      "[[3 4 5]\n",
      " [6 7 8]]\n",
      "[5 7 8]\n"
     ]
    }
   ],
   "source": [
    "import numpy as np\n",
    "a=np.array([10,20,30,40])\n",
    "b=np.array([False,True,True,False])\n",
    "print(a[b])\n",
    "c=np.array([[3,4,5],[6,7,8]])\n",
    "print(c)\n",
    "d=np.array([[False,False,True],[False,True,True]])\n",
    "print(c[d])            "
   ]
  },
  {
   "cell_type": "code",
   "execution_count": 16,
   "metadata": {},
   "outputs": [
    {
     "name": "stdout",
     "output_type": "stream",
     "text": [
      "[0 1 2 3 4 5 6 7 8 9]\n",
      "[6 7 8 9]\n",
      "[3 4 5]\n",
      "[0 1 8 9]\n",
      "[1 2 4 5 7 8]\n"
     ]
    }
   ],
   "source": [
    "a=np.arange(10)\n",
    "print(a)\n",
    "print(a[a>5])\n",
    "print(a[(a>=3)&(a<6)])\n",
    "print(a[(a<2)|(a>7)])\n",
    "print(a[a%3!=0])"
   ]
  },
  {
   "cell_type": "code",
   "execution_count": 18,
   "metadata": {},
   "outputs": [
    {
     "name": "stdout",
     "output_type": "stream",
     "text": [
      "[0 1 2 3]\n",
      "[3 4 5 6]\n",
      "[3 5 7 9]\n",
      "[-3 -3 -3 -3]\n",
      "[ 0  4 10 18]\n",
      "32\n",
      "32\n"
     ]
    }
   ],
   "source": [
    "import numpy as np\n",
    "u=np.arange(4)\n",
    "v=np.arange(3,7)\n",
    "print(u)\n",
    "print(v)\n",
    "print(u+v)\n",
    "print(u-v)\n",
    "print(u*v)\n",
    "print(np.dot(u,v))\n",
    "print((u*v).sum())"
   ]
  },
  {
   "cell_type": "code",
   "execution_count": 19,
   "metadata": {},
   "outputs": [
    {
     "name": "stdout",
     "output_type": "stream",
     "text": [
      "[[0. 1. 2.]\n",
      " [3. 4. 5.]\n",
      " [6. 7. 8.]]\n",
      "[[ 4.  5.  6.]\n",
      " [ 7.  8.  9.]\n",
      " [10. 11. 12.]]\n",
      "[[ 4.  6.  8.]\n",
      " [10. 12. 14.]\n",
      " [16. 18. 20.]]\n",
      "[[-4. -4. -4.]\n",
      " [-4. -4. -4.]\n",
      " [-4. -4. -4.]]\n",
      "[[ 0.  5. 12.]\n",
      " [21. 32. 45.]\n",
      " [60. 77. 96.]]\n",
      "[[0.         0.2        0.33333333]\n",
      " [0.42857143 0.5        0.55555556]\n",
      " [0.6        0.63636364 0.66666667]]\n",
      "[[ 27.  30.  33.]\n",
      " [ 90. 102. 114.]\n",
      " [153. 174. 195.]]\n",
      "[[ 27.  30.  33.]\n",
      " [ 90. 102. 114.]\n",
      " [153. 174. 195.]]\n",
      "[[ 27.  30.  33.]\n",
      " [ 90. 102. 114.]\n",
      " [153. 174. 195.]]\n"
     ]
    }
   ],
   "source": [
    "import numpy as np\n",
    "a=np.arange(9.).reshape(3,3)\n",
    "b=np.arange(4.,13).reshape(3,3)\n",
    "print(a)\n",
    "print(b)\n",
    "print(a+b)\n",
    "print(a-b)\n",
    "print(a*b)\n",
    "print(a/b)\n",
    "print(np.dot(a,b))\n",
    "print(a.dot(b))\n",
    "print(a@b)"
   ]
  },
  {
   "cell_type": "code",
   "execution_count": 21,
   "metadata": {},
   "outputs": [
    {
     "name": "stdout",
     "output_type": "stream",
     "text": [
      "[[0. 1. 2.]\n",
      " [3. 4. 5.]\n",
      " [6. 7. 8.]]\n",
      "[1. 2. 3.]\n",
      "[ 8. 26. 44.]\n",
      "[24. 30. 36.]\n",
      "[[ 8.]\n",
      " [26.]\n",
      " [44.]]\n",
      "[[1. 2. 3.]]\n",
      "[[24. 30. 36.]]\n"
     ]
    }
   ],
   "source": [
    "import numpy as np\n",
    "a=np.arange(9.).reshape(3,3)\n",
    "v=np.arange(1.,4.)\n",
    "print(a)\n",
    "print(v)\n",
    "print(np.dot(a,v))\n",
    "print(np.dot(v,a))\n",
    "u=v.reshape(-1,1)\n",
    "print(np.dot(a,u))\n",
    "#print(np.dot(u,a))\n",
    "w=v.reshape(1,-1)\n",
    "print(w)\n",
    "print(np.dot(w,a))\n"
   ]
  },
  {
   "cell_type": "code",
   "execution_count": 22,
   "metadata": {},
   "outputs": [
    {
     "name": "stdout",
     "output_type": "stream",
     "text": [
      "[[ 0.  1.  2.]\n",
      " [ 3.  4.  5.]\n",
      " [ 6.  7.  8.]\n",
      " [ 9. 10. 11.]]\n",
      "[[0. 1. 2.]]\n",
      "[[0.]\n",
      " [1.]\n",
      " [2.]\n",
      " [3.]]\n",
      "[[ 0.  2.  4.]\n",
      " [ 3.  5.  7.]\n",
      " [ 6.  8. 10.]\n",
      " [ 9. 11. 13.]]\n",
      "[[ 0.  0.  0.]\n",
      " [ 3.  4.  5.]\n",
      " [12. 14. 16.]\n",
      " [27. 30. 33.]]\n",
      "[[ 0.  1.  2.]\n",
      " [-1.  0.  1.]\n",
      " [-2. -1.  0.]\n",
      " [-3. -2. -1.]]\n"
     ]
    }
   ],
   "source": [
    "import numpy as np\n",
    "a=np.arange(12.).reshape(4,3)\n",
    "print(a)\n",
    "b=np.arange(3.).reshape(1,3)\n",
    "c=np.arange(4.).reshape(4,1)\n",
    "print(b)\n",
    "print(c)\n",
    "print(a+b)\n",
    "print(a*c)\n",
    "print(b-c)"
   ]
  },
  {
   "cell_type": "code",
   "execution_count": 23,
   "metadata": {},
   "outputs": [
    {
     "name": "stdout",
     "output_type": "stream",
     "text": [
      "[[ 0.  2.  4.]\n",
      " [ 3.  5.  7.]\n",
      " [ 6.  8. 10.]\n",
      " [ 9. 11. 13.]]\n"
     ]
    }
   ],
   "source": [
    "import numpy as np\n",
    "a=np.arange(12.).reshape(4,3)\n",
    "v=np.arange(3.)\n",
    "print(a+v)"
   ]
  }
 ],
 "metadata": {
  "kernelspec": {
   "display_name": "Python 3",
   "language": "python",
   "name": "python3"
  },
  "language_info": {
   "codemirror_mode": {
    "name": "ipython",
    "version": 3
   },
   "file_extension": ".py",
   "mimetype": "text/x-python",
   "name": "python",
   "nbconvert_exporter": "python",
   "pygments_lexer": "ipython3",
   "version": "3.7.0"
  }
 },
 "nbformat": 4,
 "nbformat_minor": 2
}
