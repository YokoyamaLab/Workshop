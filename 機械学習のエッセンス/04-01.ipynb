{
 "cells": [
  {
   "cell_type": "code",
   "execution_count": 1,
   "metadata": {},
   "outputs": [
    {
     "name": "stdout",
     "output_type": "stream",
     "text": [
      "1.0000000000000007\n"
     ]
    }
   ],
   "source": [
    "s = 0\n",
    "for i in range(1000):\n",
    "    s += 0.001\n",
    "print(s)"
   ]
  },
  {
   "cell_type": "code",
   "execution_count": null,
   "metadata": {},
   "outputs": [],
   "source": [
    "s = 0\n",
    "while s != 1.:\n",
    "    print(s)\n",
    "    s += 0.1\n"
   ]
  },
  {
   "cell_type": "code",
   "execution_count": 10,
   "metadata": {},
   "outputs": [
    {
     "name": "stdout",
     "output_type": "stream",
     "text": [
      "0\n",
      "0.1\n",
      "0.2\n",
      "0.30000000000000004\n",
      "0.4\n",
      "0.5\n",
      "0.6\n",
      "0.7\n",
      "0.7999999999999999\n",
      "0.8999999999999999\n"
     ]
    }
   ],
   "source": [
    "eps = 1e-10\n",
    "s = 0\n",
    "while abs(s - 1.) > eps:\n",
    "    print(s)\n",
    "    s += 0.1\n"
   ]
  },
  {
   "cell_type": "code",
   "execution_count": 11,
   "metadata": {},
   "outputs": [
    {
     "name": "stdout",
     "output_type": "stream",
     "text": [
      "(-2.0, -3.0)\n",
      "(-1.0000000272292198e-09, -1.0)\n",
      "0.999999999\n"
     ]
    }
   ],
   "source": [
    "import numpy as np\n",
    "def qeq(a, b, c):\n",
    "    d = np.sqrt(b**2 - 4 * a*c)\n",
    "    return((-b+d)/(2*a), (-b-d)/(2*a))\n",
    "\n",
    "print(qeq(1, 5, 6))\n",
    "\n",
    "print(qeq(1, 1.000000001, 0.000000001))\n",
    "\n",
    "print(np.sqrt(1.000000001**2-4*1*0.000000001))\n",
    "\n"
   ]
  },
  {
   "cell_type": "code",
   "execution_count": 12,
   "metadata": {},
   "outputs": [
    {
     "name": "stdout",
     "output_type": "stream",
     "text": [
      "(-3.0, -2.0)\n",
      "(-1.0, -1e-09)\n"
     ]
    }
   ],
   "source": [
    "import numpy as np\n",
    "def qeq(a,b,c):\n",
    "    alpha = (-b-np.sign(b)*np.sqrt(b**2-4*a*c))/(2*a)\n",
    "    beta = c / (a*alpha)\n",
    "    return (alpha, beta)\n",
    "print(qeq(1,5,6))\n",
    "print(qeq(1,1.000000001,0.000000001))"
   ]
  },
  {
   "cell_type": "code",
   "execution_count": 13,
   "metadata": {},
   "outputs": [
    {
     "name": "stdout",
     "output_type": "stream",
     "text": [
      "0.31326168751822286\n",
      "0.6931471805599453\n",
      "inf\n"
     ]
    }
   ],
   "source": [
    "#softplus(x) = log(1+e^x)\n",
    "import numpy as np\n",
    "def softplus(x):\n",
    "    return np.log(1+ np.exp(x))\n",
    "print(softplus(-1))\n",
    "print(softplus(0))\n",
    "print(softplus(1000))\n"
   ]
  },
  {
   "cell_type": "code",
   "execution_count": 14,
   "metadata": {},
   "outputs": [
    {
     "name": "stdout",
     "output_type": "stream",
     "text": [
      "0.31326168751822286\n",
      "0.6931471805599453\n",
      "1000.0\n",
      "0.0\n"
     ]
    }
   ],
   "source": [
    "import numpy as np\n",
    "def softplus(x):\n",
    "    return max(0,x) + np.log(1+np.exp(-abs(x)))\n",
    "print(softplus(-1))\n",
    "print(softplus(0))\n",
    "print(softplus(1000))\n",
    "print(softplus(-1000))"
   ]
  }
 ],
 "metadata": {
  "kernelspec": {
   "display_name": "Python 3",
   "language": "python",
   "name": "python3"
  },
  "language_info": {
   "codemirror_mode": {
    "name": "ipython",
    "version": 3
   },
   "file_extension": ".py",
   "mimetype": "text/x-python",
   "name": "python",
   "nbconvert_exporter": "python",
   "pygments_lexer": "ipython3",
   "version": "3.7.0"
  }
 },
 "nbformat": 4,
 "nbformat_minor": 2
}
