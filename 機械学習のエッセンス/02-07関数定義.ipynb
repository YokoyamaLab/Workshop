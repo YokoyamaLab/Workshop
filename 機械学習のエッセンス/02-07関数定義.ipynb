{
 "cells": [
  {
   "cell_type": "code",
   "execution_count": 2,
   "metadata": {
    "collapsed": true
   },
   "outputs": [
    {
     "name": "stdout",
     "output_type": "stream",
     "text": [
      "58\n"
     ]
    }
   ],
   "source": [
    "# 関数定義\n",
    "# def 関数名(引数):\n",
    "def plus(a,b):\n",
    "    print(a + b)\n",
    "\n",
    "plus(34,24)"
   ]
  },
  {
   "cell_type": "code",
   "execution_count": 4,
   "metadata": {
    "collapsed": true
   },
   "outputs": [
    {
     "name": "stdout",
     "output_type": "stream",
     "text": [
      "46\n",
      "77\n"
     ]
    }
   ],
   "source": [
    "# デフォルトの値を定義可能\n",
    "def plus(a,b=23):\n",
    "    print(a + b)\n",
    "plus(23)\n",
    "plus(23,54)"
   ]
  },
  {
   "cell_type": "code",
   "execution_count": 22,
   "metadata": {
    "collapsed": true
   },
   "outputs": [
    {
     "name": "stdout",
     "output_type": "stream",
     "text": [
      "16\n",
      "7\n",
      "4\n",
      "8\n",
      "4\n",
      "6\n"
     ]
    }
   ],
   "source": [
    "# あらかじめ引数を指定して関数を呼び出すこともできる\n",
    "def test(a = 4 , b = 3, c = 4):\n",
    "    print(a * b + c)\n",
    "\n",
    "test()\n",
    "test(1)\n",
    "test(2,0)\n",
    "test(1,3,5)\n",
    "test(4, b = 0)\n",
    "test(b = 2, a = 3, c = 0)"
   ]
  }
 ],
 "metadata": {
  "kernelspec": {
   "display_name": "Python 3",
   "language": "python",
   "name": "python3"
  },
  "language_info": {
   "codemirror_mode": {
    "name": "ipython",
    "version": 3
   },
   "file_extension": ".py",
   "mimetype": "text/x-python",
   "name": "python",
   "nbconvert_exporter": "python",
   "pygments_lexer": "ipython3",
   "version": "3.7.0"
  }
 },
 "nbformat": 4,
 "nbformat_minor": 2
}
