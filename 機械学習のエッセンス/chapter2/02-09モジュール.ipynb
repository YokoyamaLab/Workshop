{
 "cells": [
  {
   "cell_type": "code",
   "execution_count": 1,
   "metadata": {
    "collapsed": true
   },
   "outputs": [
    {
     "name": "stdout",
     "output_type": "stream",
     "text": [
      "2018-01-01\n"
     ]
    }
   ],
   "source": [
    "# モジュールをインポート\n",
    "import datetime\n",
    "\n",
    "# モジュールdatetime内のdateクラスを呼び出し\n",
    "# モジュール名.クラス名\n",
    "d = datetime.date(2018,1,1)\n",
    "\n",
    "print(d)"
   ]
  },
  {
   "cell_type": "code",
   "execution_count": 2,
   "metadata": {
    "collapsed": true
   },
   "outputs": [
    {
     "name": "stdout",
     "output_type": "stream",
     "text": [
      "2018-01-01\n"
     ]
    }
   ],
   "source": [
    "# モジュール内の特定のクラスだけインポート\n",
    "from datetime import date\n",
    "\n",
    "# モジュールdatetime内のdateクラスだけをインポートしたので、モジュール名を指定しないでよい\n",
    "d = date(2018,1,1)\n",
    "\n",
    "print(d)"
   ]
  },
  {
   "cell_type": "code",
   "execution_count": 3,
   "metadata": {
    "collapsed": true
   },
   "outputs": [
    {
     "name": "stdout",
     "output_type": "stream",
     "text": [
      "2018-01-01\n"
     ]
    }
   ],
   "source": [
    "# すべてのクラスをインポート\n",
    "# モジュール名の名前の衝突が起きる可能性があるためあまりおすすめしない\n",
    "from datetime import *\n",
    "\n",
    "# すべてのクラスをインポートしてあるのでモジュール名は不要\n",
    "d = date(2018,1,1)\n",
    "\n",
    "print(d)"
   ]
  },
  {
   "cell_type": "code",
   "execution_count": 4,
   "metadata": {
    "collapsed": true
   },
   "outputs": [
    {
     "name": "stdout",
     "output_type": "stream",
     "text": [
      "2018-01-01\n"
     ]
    }
   ],
   "source": [
    "# モジュール名を一時的に（自分のコードの中で）変更してインポート\n",
    "import datetime as dt\n",
    "\n",
    "# モジュール名をdtに変更したのでdtでモジュールを指定\n",
    "d = dt.date(2018,1,1)\n",
    "\n",
    "print(d)"
   ]
  },
  {
   "cell_type": "code",
   "execution_count": 8,
   "metadata": {
    "collapsed": true
   },
   "outputs": [
    {
     "name": "stdout",
     "output_type": "stream",
     "text": [
      "Hello!!\n"
     ]
    }
   ],
   "source": [
    "# 自作のモジュールをインポート\n",
    "# モジュールと処理コードは同じディレクトリ内に入れる\n",
    "import mod1\n",
    "\n",
    "print(mod1.Hello())"
   ]
  },
  {
   "cell_type": "code",
   "execution_count": 9,
   "metadata": {
    "collapsed": true
   },
   "outputs": [
    {
     "name": "stdout",
     "output_type": "stream",
     "text": [
      "I am imported!!!\n",
      "Boooooooooooooooo!!!!!!!!!!!!!!!!!!!!!!!!!\n",
      "Meow!\n"
     ]
    }
   ],
   "source": [
    "# インポート時にグローバル領域にある関数は実行される\n",
    "import mod2\n",
    "\n",
    "print(\"Boooooooooooooooo!!!!!!!!!!!!!!!!!!!!!!!!!\")\n",
    "mod2.meow()"
   ]
  }
 ],
 "metadata": {
  "kernelspec": {
   "display_name": "Python 3",
   "language": "python",
   "name": "python3"
  },
  "language_info": {
   "codemirror_mode": {
    "name": "ipython",
    "version": 3
   },
   "file_extension": ".py",
   "mimetype": "text/x-python",
   "name": "python",
   "nbconvert_exporter": "python",
   "pygments_lexer": "ipython3",
   "version": "3.7.0"
  }
 },
 "nbformat": 4,
 "nbformat_minor": 2
}
