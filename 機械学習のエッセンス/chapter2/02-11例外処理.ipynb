{
 "cells": [
  {
   "cell_type": "code",
   "execution_count": 16,
   "metadata": {
    "collapsed": true
   },
   "outputs": [
    {
     "ename": "KeyError",
     "evalue": "'d'",
     "output_type": "error",
     "traceback": [
      "\u001b[1;31m---------------------------------------------------------------------------\u001b[0m",
      "\u001b[1;31mKeyError\u001b[0m                                  Traceback (most recent call last)",
      "\u001b[1;32m<ipython-input-16-09b246d6f8a7>\u001b[0m in \u001b[0;36m<module>\u001b[1;34m()\u001b[0m\n\u001b[0;32m      3\u001b[0m \u001b[1;33m\u001b[0m\u001b[0m\n\u001b[0;32m      4\u001b[0m \u001b[1;31m# 存在しないキーで辞書にアクセス\u001b[0m\u001b[1;33m\u001b[0m\u001b[1;33m\u001b[0m\u001b[0m\n\u001b[1;32m----> 5\u001b[1;33m \u001b[0mprint\u001b[0m\u001b[1;33m(\u001b[0m\u001b[0md\u001b[0m\u001b[1;33m[\u001b[0m\u001b[1;34m\"d\"\u001b[0m\u001b[1;33m]\u001b[0m\u001b[1;33m)\u001b[0m\u001b[1;33m\u001b[0m\u001b[0m\n\u001b[0m",
      "\u001b[1;31mKeyError\u001b[0m: 'd'"
     ]
    }
   ],
   "source": [
    "# 辞書作成\n",
    "d = {\"a\": 1,\"b\": 2,\"c\": 3}\n",
    "\n",
    "# 存在しないキーで辞書にアクセス\n",
    "print(d[\"d\"])"
   ]
  },
  {
   "cell_type": "code",
   "execution_count": 10,
   "metadata": {
    "collapsed": true
   },
   "outputs": [
    {
     "name": "stdout",
     "output_type": "stream",
     "text": [
      "KeyError!!\n"
     ]
    }
   ],
   "source": [
    "d = {\"a\": 1,\"b\": 2,\"c\": 3}\n",
    "\n",
    "# 例外処理（try-except文）\n",
    "# 処理を試し、エラーを把握\n",
    "try:\n",
    "    print(d[\"d\"])\n",
    "except KeyError:\n",
    "    print(\"KeyError!!\")"
   ]
  },
  {
   "cell_type": "code",
   "execution_count": 6,
   "metadata": {
    "collapsed": true
   },
   "outputs": [
    {
     "name": "stdout",
     "output_type": "stream",
     "text": [
      "KeyError: 'd'\n"
     ]
    }
   ],
   "source": [
    "d = {\"a\": 1,\"b\": 2,\"c\": 3}\n",
    "\n",
    "try:\n",
    "    print(d[\"d\"])\n",
    "# 発生した例外を変数errに格納\n",
    "except KeyError as err:\n",
    "# エラー内容を表示\n",
    "    print(\"KeyError: {}\".format(err))"
   ]
  },
  {
   "cell_type": "code",
   "execution_count": 8,
   "metadata": {
    "collapsed": true
   },
   "outputs": [
    {
     "name": "stdout",
     "output_type": "stream",
     "text": [
      "Error happend!!\n"
     ]
    }
   ],
   "source": [
    "d = {\"a\": 1,\"b\": 2,\"c\": 3}\n",
    "\n",
    "try:\n",
    "    print(d[\"d\"])\n",
    "# exceptの後に何も指定せず、すべての例外を受け取ることも可能\n",
    "# 何が例外なのか詳しく分からないので好ましくない\n",
    "except:\n",
    "    print(\"Error happend!!\")"
   ]
  },
  {
   "cell_type": "code",
   "execution_count": 11,
   "metadata": {
    "collapsed": true
   },
   "outputs": [
    {
     "name": "stdout",
     "output_type": "stream",
     "text": [
      "<class 'KeyError'>\n",
      "'d'\n"
     ]
    }
   ],
   "source": [
    "d = {\"a\": 1,\"b\": 2,\"c\": 3}\n",
    "\n",
    "try:\n",
    "    print(d[\"d\"])\n",
    "# Exceptionでほぼすべての例外を処理できる（システム終了とキーボード割り込み以外）\n",
    "except Exception as err:\n",
    "    print(type(err))\n",
    "    print(err)"
   ]
  }
 ],
 "metadata": {
  "kernelspec": {
   "display_name": "Python 3",
   "language": "python",
   "name": "python3"
  },
  "language_info": {
   "codemirror_mode": {
    "name": "ipython",
    "version": 3
   },
   "file_extension": ".py",
   "mimetype": "text/x-python",
   "name": "python",
   "nbconvert_exporter": "python",
   "pygments_lexer": "ipython3",
   "version": "3.7.0"
  }
 },
 "nbformat": 4,
 "nbformat_minor": 2
}
