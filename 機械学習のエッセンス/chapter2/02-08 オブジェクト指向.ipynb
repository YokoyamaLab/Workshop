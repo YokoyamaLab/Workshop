{
 "cells": [
  {
   "cell_type": "code",
   "execution_count": 1,
   "metadata": {
    "collapsed": true
   },
   "outputs": [
    {
     "name": "stdout",
     "output_type": "stream",
     "text": [
      "井嶋 蒼\n",
      "横山 横山\n"
     ]
    }
   ],
   "source": [
    "# クラス定義\n",
    "class Person:\n",
    "# __init__はコンストラクタ(クラスのインスタンス（実体）化時に呼ばれる)\n",
    "# 一番初めの引数はself(Pythonでの決まり)   \n",
    "    def __init__(self, first_name=\"\",last_name=\"\"):\n",
    "        self.first_name = first_name\n",
    "        self.last_name = last_name\n",
    "# インスタンス生成\n",
    "person1 = Person(\"井嶋\",\"蒼\")\n",
    "# インスタンス（実体）へはデータ属性でアクセス\n",
    "print(person1.first_name,person1.last_name)\n",
    "\n",
    "# デフォルト値を使ってインスタンス生成\n",
    "person2 = Person()\n",
    "# 属性にデータを直接代入\n",
    "person2.first_name = \"横山\"\n",
    "person2.last_name = \"横山\"\n",
    "# データ属性を用いてインスタンス（実体）にアクセス\n",
    "print(person2.first_name,person2.last_name)"
   ]
  },
  {
   "cell_type": "code",
   "execution_count": 3,
   "metadata": {
    "collapsed": true
   },
   "outputs": [
    {
     "name": "stdout",
     "output_type": "stream",
     "text": [
      "山田 太郎\n",
      "太郎 山田\n"
     ]
    }
   ],
   "source": [
    "# クラス定義\n",
    "class Person:\n",
    "# __init__はコンストラクタ(クラスのインスタンス（実体）化時に呼ばれる)\n",
    "# 一番初めの引数はself(Pythonでの決まり)   \n",
    "    def __init__(self, first_name=\"\",last_name=\"\"):\n",
    "        self.first_name = first_name\n",
    "        self.last_name = last_name\n",
    "# first_nameとlast_nameをスペースでつないだ文字列を返すメソッド\n",
    "    def get_name(self):\n",
    "        return self.first_name + \" \" + self.last_name\n",
    "#  __str__メソッドは明示的に指定しなくても呼び出せる特殊メソッド\n",
    "# 文字列型に変換する特殊メソッド\n",
    "# __str__以外にもそれぞれの用途に特化した特殊メソッドがある\n",
    "    def __str__(self):\n",
    "        return self.last_name + \" \" + self.first_name\n",
    "\n",
    "person1 = Person(\"山田\",\"太郎\")\n",
    "print(person1.get_name())\n",
    "print(person1)"
   ]
  }
 ],
 "metadata": {
  "kernelspec": {
   "display_name": "Python 3",
   "language": "python",
   "name": "python3"
  },
  "language_info": {
   "codemirror_mode": {
    "name": "ipython",
    "version": 3
   },
   "file_extension": ".py",
   "mimetype": "text/x-python",
   "name": "python",
   "nbconvert_exporter": "python",
   "pygments_lexer": "ipython3",
   "version": "3.7.0"
  }
 },
 "nbformat": 4,
 "nbformat_minor": 2
}
