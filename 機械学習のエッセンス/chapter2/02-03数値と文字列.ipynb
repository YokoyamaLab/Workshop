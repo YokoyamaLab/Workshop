{
 "cells": [
  {
   "cell_type": "code",
   "execution_count": 1,
   "metadata": {},
   "outputs": [
    {
     "name": "stdout",
     "output_type": "stream",
     "text": [
      "18\n",
      "1\n",
      "128\n"
     ]
    }
   ],
   "source": [
    "print(240//13)\n",
    "print(4%3)\n",
    "print(2**7)"
   ]
  },
  {
   "cell_type": "code",
   "execution_count": 29,
   "metadata": {},
   "outputs": [
    {
     "name": "stdout",
     "output_type": "stream",
     "text": [
      "<class 'int'>\n",
      "<class 'float'>\n",
      "120000.0\n",
      "0.034\n",
      "<class 'float'>\n",
      "<class 'float'>\n"
     ]
    }
   ],
   "source": [
    "a = 2\n",
    "b = 1.56\n",
    "c = 1.2e5\n",
    "d = 34e-3\n",
    "print(type(a))\n",
    "print(type(b))\n",
    "print(c)\n",
    "print(d)\n",
    "print(type(c))\n",
    "print(type(d))"
   ]
  },
  {
   "cell_type": "code",
   "execution_count": 32,
   "metadata": {},
   "outputs": [
    {
     "name": "stdout",
     "output_type": "stream",
     "text": [
      "6.708203932499369\n",
      "20.085536923187668\n",
      "1.6094379124341003\n",
      "-1.0\n",
      "-2.4492935982947064e-16\n"
     ]
    }
   ],
   "source": [
    "# mathモジュールをインポート\n",
    "import math\n",
    "\n",
    "#平方根\n",
    "a = math.sqrt(45)\n",
    "\n",
    "#指数関数\n",
    "b = math.exp(3)\n",
    "\n",
    "#自然対数\n",
    "c = math.log(5)\n",
    "\n",
    "#コサイン（math.piで「π」を扱う）\n",
    "d = math.cos(math.pi)\n",
    "\n",
    "#サイン\n",
    "e = math.sin(2*math.pi)\n",
    "\n",
    "#タンジェント\n",
    "f = math.tan(3*math.pi)\n",
    "\n",
    "print(a)\n",
    "print(b)\n",
    "print(c)\n",
    "print(d)\n",
    "print(e)"
   ]
  },
  {
   "cell_type": "code",
   "execution_count": 33,
   "metadata": {
    "scrolled": false
   },
   "outputs": [
    {
     "name": "stdout",
     "output_type": "stream",
     "text": [
      "9\n"
     ]
    }
   ],
   "source": [
    "a = 4\n",
    "a += 3\n",
    "a = a + 2\n",
    "print(a)"
   ]
  },
  {
   "cell_type": "code",
   "execution_count": 34,
   "metadata": {
    "collapsed": true
   },
   "outputs": [
    {
     "name": "stdout",
     "output_type": "stream",
     "text": [
      "ぜみだるいなーーー\n",
      "無限に寝たい\n"
     ]
    }
   ],
   "source": [
    "print(\"ぜみだるいなーーー\")\n",
    "print('無限に寝たい')"
   ]
  },
  {
   "cell_type": "code",
   "execution_count": 35,
   "metadata": {},
   "outputs": [
    {
     "name": "stdout",
     "output_type": "stream",
     "text": [
      "\n",
      "寝たら\n",
      "DEIM\n",
      "終わってないかなー\n",
      "\n"
     ]
    }
   ],
   "source": [
    "a = \"\"\"\n",
    "寝たら\n",
    "DEIM\n",
    "終わってないかなー\n",
    "\"\"\"\n",
    "print(a)"
   ]
  },
  {
   "cell_type": "code",
   "execution_count": 36,
   "metadata": {},
   "outputs": [
    {
     "name": "stdout",
     "output_type": "stream",
     "text": [
      "30\n"
     ]
    }
   ],
   "source": [
    "a = \"ぜみだるいんごーーーーーーーーーーーーーーーーーーーーーーー\"\n",
    "# len関数で文字列の長さを取得\n",
    "print(len(a))"
   ]
  },
  {
   "cell_type": "code",
   "execution_count": 37,
   "metadata": {
    "collapsed": true
   },
   "outputs": [
    {
     "ename": "TypeError",
     "evalue": "unsupported operand type(s) for +: 'int' and 'str'",
     "output_type": "error",
     "traceback": [
      "\u001b[1;31m---------------------------------------------------------------------------\u001b[0m",
      "\u001b[1;31mTypeError\u001b[0m                                 Traceback (most recent call last)",
      "\u001b[1;32m<ipython-input-37-70da9decc0ba>\u001b[0m in \u001b[0;36m<module>\u001b[1;34m()\u001b[0m\n\u001b[0;32m      1\u001b[0m \u001b[0ma\u001b[0m \u001b[1;33m=\u001b[0m \u001b[1;36m3\u001b[0m\u001b[1;33m\u001b[0m\u001b[0m\n\u001b[0;32m      2\u001b[0m \u001b[0mb\u001b[0m \u001b[1;33m=\u001b[0m \u001b[1;34m\"ぼくいじま\"\u001b[0m\u001b[1;33m\u001b[0m\u001b[0m\n\u001b[1;32m----> 3\u001b[1;33m \u001b[0mprint\u001b[0m\u001b[1;33m(\u001b[0m\u001b[0ma\u001b[0m \u001b[1;33m+\u001b[0m \u001b[0mb\u001b[0m\u001b[1;33m)\u001b[0m\u001b[1;33m\u001b[0m\u001b[0m\n\u001b[0m",
      "\u001b[1;31mTypeError\u001b[0m: unsupported operand type(s) for +: 'int' and 'str'"
     ]
    }
   ],
   "source": [
    "a = 3\n",
    "b = \"ぼくいじま\"\n",
    "print(a + b)"
   ]
  },
  {
   "cell_type": "code",
   "execution_count": 41,
   "metadata": {},
   "outputs": [
    {
     "name": "stdout",
     "output_type": "stream",
     "text": [
      "3ぼくいじま\n"
     ]
    }
   ],
   "source": [
    "a = str(3)\n",
    "b = \"ぼくいじま\"\n",
    "print(a + b)"
   ]
  },
  {
   "cell_type": "code",
   "execution_count": 2,
   "metadata": {},
   "outputs": [
    {
     "name": "stdout",
     "output_type": "stream",
     "text": [
      "5と2と4の和は11です。\n"
     ]
    }
   ],
   "source": [
    "# format関数で文字列に数値を代入\n",
    "a = 5\n",
    "b = 2\n",
    "c = 4\n",
    "s = 5 + 2 + 4\n",
    "z = \"{}と{}と{}の和は{}です。\".format(a,b,c,s)\n",
    "print(z)"
   ]
  }
 ],
 "metadata": {
  "kernelspec": {
   "display_name": "Python 3",
   "language": "python",
   "name": "python3"
  },
  "language_info": {
   "codemirror_mode": {
    "name": "ipython",
    "version": 3
   },
   "file_extension": ".py",
   "mimetype": "text/x-python",
   "name": "python",
   "nbconvert_exporter": "python",
   "pygments_lexer": "ipython3",
   "version": "3.7.0"
  }
 },
 "nbformat": 4,
 "nbformat_minor": 2
}
