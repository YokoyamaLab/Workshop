{
 "cells": [
  {
   "cell_type": "code",
   "execution_count": null,
   "metadata": {},
   "outputs": [],
   "source": [
    "import numpy as np\n",
    "import matplotlib.pyplot as plt\n",
    "\n",
    "x = np.array([0, 1, 2, 3])\n",
    "y = np.array([3, 7, 4, 8])\n",
    "\n",
    "plt.plot(x, y, color=\"r\")\n",
    "plt.show()"
   ]
  },
  {
   "cell_type": "code",
   "execution_count": null,
   "metadata": {},
   "outputs": [],
   "source": [
    "import numpy as np\n",
    "import matplotlib.pyplot as plt\n",
    "\n",
    "x = np.array([0, 1, 2, 3])\n",
    "y = np.array([3, 7, 4, 8])\n",
    "\n",
    "plt.scatter(x, y, color=\"r\")\n",
    "plt.show()"
   ]
  },
  {
   "cell_type": "code",
   "execution_count": null,
   "metadata": {},
   "outputs": [],
   "source": [
    "import numpy as np\n",
    "import matplotlib.pyplot as plt\n",
    "\n",
    "x = np.linspace(-5, 5, 300) ##範囲[-5,5]を等間隔に刻んで300個の数値で得る（大きすぎると時間がかかる）\n",
    "y = x**2\n",
    "\n",
    "plt.plot(x, y, color=\"r\")\n",
    "plt.show()"
   ]
  },
  {
   "cell_type": "code",
   "execution_count": null,
   "metadata": {},
   "outputs": [],
   "source": [
    "import numpy as np\n",
    "import matplotlib.pyplot as plt\n",
    "\n",
    "x = np.linspace(-5, 5, 300) \n",
    "y1 = x**2\n",
    "y2 = (x-2)**2\n",
    "\n",
    "plt.plot(x, y1, color=\"r\")\n",
    "plt.plot(x, y2, color=\"k\", linestyle=\"--\")\n",
    "plt.show()"
   ]
  },
  {
   "cell_type": "code",
   "execution_count": null,
   "metadata": {},
   "outputs": [],
   "source": [
    "import numpy as np\n",
    "import matplotlib.pyplot as plt\n",
    "\n",
    "np.random.seed(0)\n",
    "l = []\n",
    "for _ in range(1000):\n",
    "    l.append(np.random.randint(1, 7, size=10).sum())\n",
    "\n",
    "plt.hist(l, 20, color=\"gray\") ##20はビンの数　##データの最大値と最小値を20等分\n",
    "plt.show()\n",
    "\n",
    "##サイコロを10回投げて目の合計を計算する"
   ]
  },
  {
   "cell_type": "code",
   "execution_count": null,
   "metadata": {},
   "outputs": [],
   "source": [
    "import numpy as np\n",
    "import matplotlib.pyplot as plt\n",
    "\n",
    "np.random.seed(0)\n",
    "l = []\n",
    "for _ in range(1000):\n",
    "    l.append(np.random.randint(1, 7, size=10).sum())\n",
    "\n",
    "plt.hist(l, np.arange(15, 55, 2))  \n",
    "plt.show()"
   ]
  },
  {
   "cell_type": "code",
   "execution_count": null,
   "metadata": {},
   "outputs": [],
   "source": [
    "import numpy as np\n",
    "import matplotlib.pyplot as plt\n",
    "\n",
    "x = np.linspace(-5, 5, 300)\n",
    "sin_x = np.sin(x)\n",
    "cos_x = np.cos(x) ##描画のデータを用意\n",
    "\n",
    "fig, axes = plt.subplots(2, 1) ##subplots関数によりサブプロットを作成 ##引数の2，1は2行1列にサブスロットを並べることを意味\n",
    "axes[0].set_ylim(-1.5, 1.5)\n",
    "axes[1].set_ylim(-1.5, 1.5)\n",
    "axes[0].plot(x, sin_x, color=\"r\")\n",
    "axes[1].plot(x, cos_x, color=\"k\")\n",
    "\n",
    "plt.show()"
   ]
  },
  {
   "cell_type": "code",
   "execution_count": null,
   "metadata": {},
   "outputs": [],
   "source": [
    "import numpy as np\n",
    "import matplotlib.pyplot as plt\n",
    "\n",
    "x = np.linspace(-5, 5, 300)\n",
    "y = x**2\n",
    "\n",
    "fig, ax = plt.subplots()\n",
    "ax.plot(x, y, color=\"r\")\n",
    "plt.show()"
   ]
  },
  {
   "cell_type": "code",
   "execution_count": null,
   "metadata": {},
   "outputs": [],
   "source": [
    "import numpy as np\n",
    "import matplotlib.pyplot as plt\n",
    "\n",
    "def f(x,y):\n",
    "    return x**2 + y**2 / 4\n",
    "\n",
    "x = np.linspace(-5, 5, 300)\n",
    "y = np.linspace(-5, 5, 300)\n",
    "xmesh, ymesh = np.meshgrid(x,y) ##meshgridは2つの2次元配列を呼び出す\n",
    "z = f(xmesh.ravel(), ymesh.ravel()).reshape(xmesh.shape) ##ravelで1次元配列になおして、reshapeで2次元配列に変換\n",
    "\n",
    "plt.contour(x, y, z, colors=\"k\", levels=[1, 2, 3, 4, 5]) ##関数contourは等高線の線だけを描画\n",
    "plt.show()"
   ]
  },
  {
   "cell_type": "code",
   "execution_count": null,
   "metadata": {},
   "outputs": [],
   "source": [
    "import numpy as np\n",
    "import matplotlib.pyplot as plt\n",
    "\n",
    "def f(x,y):\n",
    "    return x**2 + y**2 / 4\n",
    "\n",
    "x = np.linspace(-5, 5, 300)\n",
    "y = np.linspace(-5, 5, 300)\n",
    "xmesh, ymesh = np.meshgrid(x,y) ##meshgridは2つの2次元配列を呼び出す\n",
    "z = f(xmesh,ymesh) ##ravelで1次元配列になおして、reshapeで2次元配列に変換\n",
    "\n",
    "colors = [\"0.1\", \"0.3\", \"0.5\", \"0.7\"]\n",
    "levels = [1, 2, 3, 4, 5]\n",
    "plt.contourf(x, y, z, colors=colors, levels=levels) ##関数contourfは関数の評価値によって領域を塗りつぶす\n",
    "plt.show()"
   ]
  }
 ],
 "metadata": {
  "kernelspec": {
   "display_name": "Python 3",
   "language": "python",
   "name": "python3"
  },
  "language_info": {
   "codemirror_mode": {
    "name": "ipython",
    "version": 3
   },
   "file_extension": ".py",
   "mimetype": "text/x-python",
   "name": "python",
   "nbconvert_exporter": "python",
   "pygments_lexer": "ipython3",
   "version": "3.5.2"
  }
 },
 "nbformat": 4,
 "nbformat_minor": 2
}
