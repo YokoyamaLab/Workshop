{
 "cells": [
  {
   "cell_type": "code",
   "execution_count": 5,
   "metadata": {},
   "outputs": [
    {
     "name": "stdout",
     "output_type": "stream",
     "text": [
      "0.8930095889460916\n",
      "0.2780494267281083\n",
      "[[0.66215352 0.31534535]\n",
      " [0.65109968 0.81592262]\n",
      " [0.06063917 0.08720088]]\n",
      "[0.43625016 0.51462484 0.31547437 0.00313144 0.22026727]\n",
      "2\n",
      "15\n",
      "[[1 4 4]\n",
      " [2 3 0]\n",
      " [2 1 1]]\n"
     ]
    }
   ],
   "source": [
    "import numpy as np\n",
    "print(np.random.rand())\n",
    "print(np.random.rand())\n",
    "print(np.random.rand(3,2))\n",
    "print(np.random.rand(5))\n",
    "print(np.random.randint(4))\n",
    "print(np.random.randint(10,20))\n",
    "print(np.random.randint(5,size=(3,3)))"
   ]
  },
  {
   "cell_type": "code",
   "execution_count": 21,
   "metadata": {},
   "outputs": [
    {
     "name": "stdout",
     "output_type": "stream",
     "text": [
      "34\n",
      "29\n",
      "33\n"
     ]
    }
   ],
   "source": [
    "import numpy as np\n",
    "def throw_dice(n):\n",
    "    return np.random.randint(1,7,size=n).sum()\n",
    "print(throw_dice(10))\n",
    "print(throw_dice(10))\n",
    "print(throw_dice(10))"
   ]
  },
  {
   "cell_type": "code",
   "execution_count": 22,
   "metadata": {},
   "outputs": [
    {
     "name": "stdout",
     "output_type": "stream",
     "text": [
      "[0.77132064 0.02075195 0.63364823 0.74880388 0.49850701]\n",
      "[0.77132064 0.02075195 0.63364823 0.74880388 0.49850701]\n",
      "[0.54340494 0.27836939 0.42451759 0.84477613 0.00471886]\n",
      "[0.54340494 0.27836939 0.42451759 0.84477613 0.00471886]\n"
     ]
    }
   ],
   "source": [
    "np.random.seed(10)\n",
    "print(np.random.rand(5))\n",
    "np.random.seed(10)\n",
    "print(np.random.rand(5))\n",
    "np.random.seed(100)\n",
    "print(np.random.rand(5))\n",
    "np.random.seed(100)\n",
    "print(np.random.rand(5))"
   ]
  }
 ],
 "metadata": {
  "kernelspec": {
   "display_name": "Python 3",
   "language": "python",
   "name": "python3"
  },
  "language_info": {
   "codemirror_mode": {
    "name": "ipython",
    "version": 3
   },
   "file_extension": ".py",
   "mimetype": "text/x-python",
   "name": "python",
   "nbconvert_exporter": "python",
   "pygments_lexer": "ipython3",
   "version": "3.7.0"
  }
 },
 "nbformat": 4,
 "nbformat_minor": 2
}
