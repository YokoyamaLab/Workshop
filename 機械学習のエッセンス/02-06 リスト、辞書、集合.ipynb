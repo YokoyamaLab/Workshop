{
 "cells": [
  {
   "cell_type": "code",
   "execution_count": 2,
   "metadata": {},
   "outputs": [
    {
     "name": "stdout",
     "output_type": "stream",
     "text": [
      "[1, 2, 3]\n",
      "[1, 2, 3, 54]\n",
      "[1, 2, 3, 34, 54]\n",
      "[1, 2, 3, 34, 54, 2, 3, 45]\n"
     ]
    }
   ],
   "source": [
    "# リスト\n",
    "a = [1,2,3]\n",
    "print(a)\n",
    "a.append(54)\n",
    "print(a)\n",
    "a.insert(3,34)\n",
    "print(a)\n",
    "b = [2,3,45]\n",
    "a.extend(b)\n",
    "print(a)"
   ]
  },
  {
   "cell_type": "code",
   "execution_count": 8,
   "metadata": {},
   "outputs": [
    {
     "name": "stdout",
     "output_type": "stream",
     "text": [
      "[0, 1, 8, 27, 64]\n"
     ]
    }
   ],
   "source": [
    "# リストの内包表記\n",
    "l = [i**3 for i in range(5)]\n",
    "print(l)"
   ]
  },
  {
   "cell_type": "code",
   "execution_count": 11,
   "metadata": {},
   "outputs": [
    {
     "name": "stdout",
     "output_type": "stream",
     "text": [
      "(1, 'イジマソウ', 1.4)\n"
     ]
    }
   ],
   "source": [
    "# タプル\n",
    "t = (1,\"イジマソウ\",1.4)\n",
    "print(t)"
   ]
  },
  {
   "cell_type": "code",
   "execution_count": 13,
   "metadata": {
    "collapsed": true
   },
   "outputs": [
    {
     "name": "stdout",
     "output_type": "stream",
     "text": [
      "[1, 2, 3, 4, 5]\n",
      "[1, 2, 3, 100, 5]\n",
      "3\n"
     ]
    },
    {
     "ename": "TypeError",
     "evalue": "'tuple' object does not support item assignment",
     "output_type": "error",
     "traceback": [
      "\u001b[1;31m---------------------------------------------------------------------------\u001b[0m",
      "\u001b[1;31mTypeError\u001b[0m                                 Traceback (most recent call last)",
      "\u001b[1;32m<ipython-input-13-fb68a2f86787>\u001b[0m in \u001b[0;36m<module>\u001b[1;34m()\u001b[0m\n\u001b[0;32m      7\u001b[0m \u001b[0mt\u001b[0m \u001b[1;33m=\u001b[0m \u001b[1;33m(\u001b[0m\u001b[1;36m1\u001b[0m\u001b[1;33m,\u001b[0m\u001b[1;36m2\u001b[0m\u001b[1;33m,\u001b[0m\u001b[1;36m3\u001b[0m\u001b[1;33m,\u001b[0m\u001b[1;36m4\u001b[0m\u001b[1;33m,\u001b[0m\u001b[1;36m5\u001b[0m\u001b[1;33m)\u001b[0m\u001b[1;33m\u001b[0m\u001b[0m\n\u001b[0;32m      8\u001b[0m \u001b[0mprint\u001b[0m\u001b[1;33m(\u001b[0m\u001b[0mt\u001b[0m\u001b[1;33m[\u001b[0m\u001b[1;36m2\u001b[0m\u001b[1;33m]\u001b[0m\u001b[1;33m)\u001b[0m\u001b[1;33m\u001b[0m\u001b[0m\n\u001b[1;32m----> 9\u001b[1;33m \u001b[0mt\u001b[0m\u001b[1;33m[\u001b[0m\u001b[1;36m2\u001b[0m\u001b[1;33m]\u001b[0m \u001b[1;33m=\u001b[0m \u001b[1;36m34\u001b[0m\u001b[1;33m\u001b[0m\u001b[0m\n\u001b[0m\u001b[0;32m     10\u001b[0m \u001b[0mprint\u001b[0m\u001b[1;33m(\u001b[0m\u001b[0mt\u001b[0m\u001b[1;33m)\u001b[0m\u001b[1;33m\u001b[0m\u001b[0m\n",
      "\u001b[1;31mTypeError\u001b[0m: 'tuple' object does not support item assignment"
     ]
    }
   ],
   "source": [
    "# リストとタプルの違い\n",
    "l = [1,2,3,4,5]\n",
    "print(l)\n",
    "l[3] = 100\n",
    "print(l)\n",
    "\n",
    "t = (1,2,3,4,5)\n",
    "print(t[2])\n",
    "t[2] = 34\n",
    "print(t)"
   ]
  },
  {
   "cell_type": "code",
   "execution_count": 18,
   "metadata": {
    "collapsed": true
   },
   "outputs": [
    {
     "name": "stdout",
     "output_type": "stream",
     "text": [
      "{'API_KEY': 'dsjfsdjfkvfsdjvnm,cjsdmcvk', 'Consumer_KEY': 'sdjbkfhbsdfvsdfchsd'}\n",
      "dsjfsdjfkvfsdjvnm,cjsdmcvk\n"
     ]
    },
    {
     "data": {
      "text/plain": [
       "False"
      ]
     },
     "execution_count": 18,
     "metadata": {},
     "output_type": "execute_result"
    }
   ],
   "source": [
    "# 辞書\n",
    "d = {\"API_KEY\": \"dsjfsdjfkvfsdjvnm,cjsdmcvk\",\"Consumer_KEY\":\"sdjbkfhbsdfvsdfchsd\"}\n",
    "print(d)\n",
    "print(d[\"API_KEY\"])\n",
    "\"Api_key\" in d"
   ]
  },
  {
   "cell_type": "code",
   "execution_count": 21,
   "metadata": {
    "collapsed": true
   },
   "outputs": [
    {
     "name": "stdout",
     "output_type": "stream",
     "text": [
      "API_KEY\n",
      "Consumer_KEY\n",
      "dsjfsdjfkvfsdjvnm,cjsdmcvk\n",
      "sdjbkfhbsdfvsdfchsd\n",
      "('API_KEY', 'dsjfsdjfkvfsdjvnm,cjsdmcvk')\n",
      "('Consumer_KEY', 'sdjbkfhbsdfvsdfchsd')\n"
     ]
    }
   ],
   "source": [
    "# 辞書の操作\n",
    "d = {\"API_KEY\": \"dsjfsdjfkvfsdjvnm,cjsdmcvk\",\"Consumer_KEY\":\"sdjbkfhbsdfvsdfchsd\"}\n",
    "for x in d:\n",
    "    print(x)\n",
    "\n",
    "for x in d.values():\n",
    "    print(x)\n",
    "\n",
    "for x in d.items():\n",
    "    print(x)"
   ]
  }
 ],
 "metadata": {
  "kernelspec": {
   "display_name": "Python 3",
   "language": "python",
   "name": "python3"
  },
  "language_info": {
   "codemirror_mode": {
    "name": "ipython",
    "version": 3
   },
   "file_extension": ".py",
   "mimetype": "text/x-python",
   "name": "python",
   "nbconvert_exporter": "python",
   "pygments_lexer": "ipython3",
   "version": "3.7.0"
  }
 },
 "nbformat": 4,
 "nbformat_minor": 2
}
