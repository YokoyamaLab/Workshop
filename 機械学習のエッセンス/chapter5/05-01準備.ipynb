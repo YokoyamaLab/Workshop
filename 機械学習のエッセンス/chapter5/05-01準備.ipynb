{
 "cells": [
  {
   "cell_type": "code",
   "execution_count": null,
   "metadata": {},
   "outputs": [],
   "source": [
    "# 教師あり学習\n",
    "model = Algorithm(parameters) # インスタンス化\n",
    "model.fit(X,y) #学習\n",
    "y_predicted = model.predict(X_test) #評価用データについての予測値を取得"
   ]
  },
  {
   "cell_type": "code",
   "execution_count": null,
   "metadata": {},
   "outputs": [],
   "source": [
    "# 教師なし学習\n",
    "model = Algorithm(parameters) # インスタンス化\n",
    "model.fit(X) #学習\n",
    "clusters = model.labels_ #ラベルの取得"
   ]
  }
 ],
 "metadata": {
  "kernelspec": {
   "display_name": "Python 3",
   "language": "python",
   "name": "python3"
  },
  "language_info": {
   "codemirror_mode": {
    "name": "ipython",
    "version": 3
   },
   "file_extension": ".py",
   "mimetype": "text/x-python",
   "name": "python",
   "nbconvert_exporter": "python",
   "pygments_lexer": "ipython3",
   "version": "3.7.0"
  }
 },
 "nbformat": 4,
 "nbformat_minor": 2
}
