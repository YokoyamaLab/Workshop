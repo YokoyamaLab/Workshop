{
 "cells": [
  {
   "cell_type": "code",
   "execution_count": 1,
   "metadata": {},
   "outputs": [
    {
     "data": {
      "text/plain": [
       "<Figure size 640x480 with 1 Axes>"
      ]
     },
     "metadata": {},
     "output_type": "display_data"
    }
   ],
   "source": [
    "# 原点を通る直線でデータを近似\n",
    "\n",
    "# ライブラリのインポート\n",
    "import numpy as np\n",
    "import matplotlib.pyplot as plt\n",
    "\n",
    "# 近似式を実装\n",
    "def reg1dim1(x, y):\n",
    "    a = np.dot(x, y) / (x**2).sum()\n",
    "    return a\n",
    "\n",
    "# データを定義\n",
    "x = np.array([1, 2, 4, 6, 7])\n",
    "y = np.array([1, 3, 3, 5, 4])\n",
    "a = reg1dim1(x, y)\n",
    "\n",
    "# 近似結果をプロット\n",
    "plt.scatter(x, y, color=\"k\")\n",
    "xmax = x.max()\n",
    "plt.plot([0, xmax], [0, a*xmax], color=\"k\")\n",
    "plt.show()"
   ]
  },
  {
   "cell_type": "code",
   "execution_count": 2,
   "metadata": {
    "scrolled": true
   },
   "outputs": [
    {
     "data": {
      "image/png": "[encoded data removed]",
      "text/plain": [
       "<Figure size 432x288 with 1 Axes>"
      ]
     },
     "metadata": {
      "needs_background": "light"
     },
     "output_type": "display_data"
    }
   ],
   "source": [
    "# 一般的な直線で近似\n",
    "\n",
    "import numpy as np\n",
    "import matplotlib.pyplot as plt\n",
    "\n",
    "# 近似式を実装\n",
    "def reg1dim2(x, y):\n",
    "    n = len(x)\n",
    "    a = ((np.dot(x, y) - y.sum() * x.sum() / n) /\n",
    "         ((x**2).sum() - x.sum()**2 / n))\n",
    "    b = (y.sum() - a * x.sum()) / n\n",
    "    return a, b\n",
    "\n",
    "# データを定義\n",
    "x = np.array([1, 2, 4, 6, 7])\n",
    "y = np.array([1, 3, 3, 5, 4])\n",
    "a, b = reg1dim2(x, y)\n",
    "\n",
    "# 近似結果をプロット\n",
    "plt.scatter(x, y, color=\"k\")\n",
    "xmax = x.max()\n",
    "plt.plot([0, xmax], [b, a * xmax + b], color=\"k\")\n",
    "plt.show()"
   ]
  },
  {
   "cell_type": "code",
   "execution_count": 3,
   "metadata": {},
   "outputs": [
    {
     "name": "stdout",
     "output_type": "stream",
     "text": [
      "最初の5つの正解と予測値:\n",
      "7 6.012\n",
      "6 5.734\n",
      "5 5.285\n",
      "8 6.352\n",
      "5 5.414\n",
      "\n",
      "RMSE: 0.6724248548466198\n"
     ]
    }
   ],
   "source": [
    "# 実践的な例\n",
    "\n",
    "\n",
    "import linearreg\n",
    "import numpy as np\n",
    "import csv\n",
    "\n",
    "# データ読み込み\n",
    "Xy = []\n",
    "with open(\"winequality-red.csv\") as fp:\n",
    "    for row in csv.reader(fp, delimiter=\";\"):\n",
    "        Xy.append(row)\n",
    "Xy = np.array(Xy[1:], dtype=np.float64)\n",
    "\n",
    "# 訓練用データとテスト用データに分割する\n",
    "np.random.seed(0)\n",
    "np.random.shuffle(Xy)\n",
    "train_X = Xy[:-1000, :-1]\n",
    "train_y = Xy[:-1000, -1]\n",
    "test_X = Xy[-1000:, :-1]\n",
    "test_y = Xy[-1000:, -1]\n",
    "\n",
    "# 学習させる\n",
    "model = linearreg.LinearRegression()\n",
    "model.fit(train_X, train_y)\n",
    "\n",
    "# テスト用データにモデルを適用\n",
    "y = model.predict(test_X)\n",
    "\n",
    "print(\"最初の5つの正解と予測値:\")\n",
    "for i in range(5):\n",
    "    print(\"{:1.0f} {:5.3f}\".format(test_y[i], y[i]))\n",
    "print()\n",
    "print(\"RMSE:\", np.sqrt(((test_y - y)**2).mean()))"
   ]
  }
 ],
 "metadata": {
  "kernelspec": {
   "display_name": "Python 3",
   "language": "python",
   "name": "python3"
  },
  "language_info": {
   "codemirror_mode": {
    "name": "ipython",
    "version": 3
   },
   "file_extension": ".py",
   "mimetype": "text/x-python",
   "name": "python",
   "nbconvert_exporter": "python",
   "pygments_lexer": "ipython3",
   "version": "3.7.0"
  }
 },
 "nbformat": 4,
 "nbformat_minor": 2
}
