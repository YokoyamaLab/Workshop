{
 "cells": [
  {
   "cell_type": "code",
   "execution_count": 1,
   "metadata": {},
   "outputs": [
    {
     "name": "stdout",
     "output_type": "stream",
     "text": [
      "[[ 0.42857143 -0.28571429 -0.14285714]\n",
      " [-0.14285714  0.42857143 -0.28571429]\n",
      " [-0.14285714  0.42857143  0.71428571]]\n"
     ]
    }
   ],
   "source": [
    "import numpy as np\n",
    "a=np.array([[3,1,1],[1,2,1],[0,-1,1]])\n",
    "print(np.linalg.inv(a))"
   ]
  },
  {
   "cell_type": "code",
   "execution_count": 2,
   "metadata": {},
   "outputs": [
    {
     "name": "stdout",
     "output_type": "stream",
     "text": [
      "[-0.57142857 -0.14285714  2.85714286]\n"
     ]
    }
   ],
   "source": [
    "import numpy as np\n",
    "a=np.array([[3,1,1],[1,2,1],[0,-1,1]])\n",
    "b=np.array([1,2,3])\n",
    "print(np.linalg.solve(a,b))"
   ]
  },
  {
   "cell_type": "code",
   "execution_count": 3,
   "metadata": {},
   "outputs": [
    {
     "name": "stdout",
     "output_type": "stream",
     "text": [
      "[-0.57142857 -0.14285714  2.85714286]\n"
     ]
    }
   ],
   "source": [
    "import numpy as np\n",
    "a=np.array([[3,1,1],[1,2,1],[0,-1,1]])\n",
    "b=np.array([1,2,3])\n",
    "from scipy import linalg\n",
    "lu,p=linalg.lu_factor(a)\n",
    "print(linalg.lu_solve((lu,p),b))"
   ]
  }
 ],
 "metadata": {
  "kernelspec": {
   "display_name": "Python 3",
   "language": "python",
   "name": "python3"
  },
  "language_info": {
   "codemirror_mode": {
    "name": "ipython",
    "version": 3
   },
   "file_extension": ".py",
   "mimetype": "text/x-python",
   "name": "python",
   "nbconvert_exporter": "python",
   "pygments_lexer": "ipython3",
   "version": "3.7.0"
  }
 },
 "nbformat": 4,
 "nbformat_minor": 2
}
