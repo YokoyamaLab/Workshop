{
 "cells": [
  {
   "cell_type": "code",
   "execution_count": null,
   "metadata": {},
   "outputs": [],
   "source": [
    "import numpy as np\n",
    "\n",
    "#2018年4月の東京の最高気温（日別）\n",
    "x = np.array([21.9, 24.5, 23.4, 26.2, 15.3, 22.4, 21.8, 16.8,\n",
    "              19.9, 19.1, 21.9, 25.9, 20.9, 18.8, 22.1, 20.0,\n",
    "              15.0, 16.0, 22.2, 26.4, 26.0, 28.3, 18.7, 21.3,\n",
    "              22.5, 25.0, 22.0, 26.1, 25.6, 25.7])\n",
    "\n",
    "m = x.sum() / len(x)\n",
    "#m = x.mean()\n",
    "s = np.sqrt(((x - m)**2).sum() / len(x))\n",
    "#s = x.std()\n",
    "print(\"平均値:{:.4f}\".format(m))\n",
    "print(\"標準偏差:{:.4f}\".format(s))"
   ]
  },
  {
   "cell_type": "code",
   "execution_count": null,
   "metadata": {},
   "outputs": [],
   "source": [
    "import numpy as np\n",
    "\n",
    "#2018年4月の東京の最高気温（日別）\n",
    "x = np.array([21.9, 24.5, 23.4, 26.2, 15.3, 22.4, 21.8, 16.8,\n",
    "              19.9, 19.1, 21.9, 25.9, 20.9, 18.8, 22.1, 20.0,\n",
    "              15.0, 16.0, 22.2, 26.4, 26.0, 28.3, 18.7, 21.3,\n",
    "              22.5, 25.0, 22.0, 26.1, 25.6, 25.7])\n",
    "\n",
    "#2018年4月の札幌の最高気温（日別）\n",
    "y = np.array([8.3, 13.0, 8.4, 7.9, 7.0, 3.7, 6.1, 8.5, 8.6,\n",
    "              11.9, 12.1, 14.4, 7.0, 10.5, 6.6, 10.6, 16.6,\n",
    "              19.1, 20.1, 19.8, 24.5, 12.6, 16.4, 13.0, 13.3,\n",
    "              14.1, 14.4, 17.0, 21.3, 24.5])\n",
    "\n",
    "mx = x.sum() / len(x)\n",
    "my = y.sum() / len(y)\n",
    "sx = np.sqrt(((x - mx)**2).sum() / len(x))\n",
    "sy = np.sqrt(((y - my)**2).sum() / len(y))\n",
    "sxy = ((x - mx) * (y - my)).sum() / len(x) #共分散の計算\n",
    "print(\"東京の最高気温の標準偏差:{:4f}\".format(sx))\n",
    "print(\"札幌の最高気温の標準偏差:{:4f}\".format(sy))\n",
    "print(\"共分散:{:4f}\".format(sxy))\n",
    "print(\"相関係数:{:4f}\".format(sxy / (sx * sy)))"
   ]
  },
  {
   "cell_type": "code",
   "execution_count": null,
   "metadata": {},
   "outputs": [],
   "source": [
    "import numpy as np\n",
    "import matplotlib.pyplot as plt\n",
    "from scipy.stats import norm\n",
    "\n",
    "x = np.linspace(-5, 5)\n",
    "y = norm.pdf(x)\n",
    "plt.plot(x, y, color=\"r\")\n",
    "plt.show()"
   ]
  },
  {
   "cell_type": "code",
   "execution_count": null,
   "metadata": {},
   "outputs": [],
   "source": [
    "import numpy as np\n",
    "import matplotlib.pyplot as plt\n",
    "\n",
    "#ｎ個のコインを投げることをｍ回繰り返し、結果をリストで返す\n",
    "def cointoss(n, m):\n",
    "    l = []\n",
    "    for _ in range(m):\n",
    "        r = np.random.randint(2, size=n)\n",
    "        l.append(r.sum())\n",
    "    return l\n",
    "\n",
    "np.random.seed(0)\n",
    "fig, axes = plt.subplots(1, 2)\n",
    "\n",
    "l = cointoss(100, 1000000)\n",
    "axes[0].hist(l, range=(30, 70), bins=50,color=\"k\")\n",
    "l = cointoss(10000, 1000000)\n",
    "axes[1].hist(l, range=(4800, 5200), bins=50,color=\"k\")\n",
    "plt.show()"
   ]
  }
 ],
 "metadata": {
  "kernelspec": {
   "display_name": "Python 3",
   "language": "python",
   "name": "python3"
  },
  "language_info": {
   "codemirror_mode": {
    "name": "ipython",
    "version": 3
   },
   "file_extension": ".py",
   "mimetype": "text/x-python",
   "name": "python",
   "nbconvert_exporter": "python",
   "pygments_lexer": "ipython3",
   "version": "3.5.2"
  }
 },
 "nbformat": 4,
 "nbformat_minor": 2
}
