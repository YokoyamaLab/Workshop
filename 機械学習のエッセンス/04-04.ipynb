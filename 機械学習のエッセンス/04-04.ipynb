{
 "cells": [
  {
   "cell_type": "code",
   "execution_count": 5,
   "metadata": {},
   "outputs": [
    {
     "name": "stdout",
     "output_type": "stream",
     "text": [
      "[[0. 1. 0. 2. 0.]\n",
      " [0. 0. 0. 0. 0.]\n",
      " [0. 0. 3. 0. 0.]\n",
      " [0. 0. 0. 0. 4.]]\n",
      "[[0. 0. 1. 0.]\n",
      " [0. 0. 2. 0.]\n",
      " [0. 0. 0. 3.]\n",
      " [0. 0. 0. 4.]\n",
      " [0. 0. 0. 0.]]\n",
      "[[0. 0. 2. 8.]\n",
      " [0. 0. 0. 0.]\n",
      " [0. 0. 0. 9.]\n",
      " [0. 0. 0. 0.]]\n",
      "[[0. 0. 2. 8.]\n",
      " [0. 0. 0. 0.]\n",
      " [0. 0. 0. 9.]\n",
      " [0. 0. 0. 0.]]\n",
      "[[0. 0. 2. 8.]\n",
      " [0. 0. 0. 0.]\n",
      " [0. 0. 0. 9.]\n",
      " [0. 0. 0. 0.]]\n"
     ]
    }
   ],
   "source": [
    "from scipy import sparse\n",
    "a=sparse.lil_matrix((4,5))\n",
    "a[0,1]=1\n",
    "a[0,3]=2\n",
    "a[2,2]=3\n",
    "a[3,4]=4\n",
    "print(a.toarray())\n",
    "b=sparse.lil_matrix((5,4))\n",
    "b[0,2]=1\n",
    "b[1,2]=2\n",
    "b[2,3]=3\n",
    "b[3,3]=4\n",
    "print(b.toarray())\n",
    "c=a.dot(b)\n",
    "print(c.toarray())\n",
    "a1=a.tocsr()\n",
    "b1=b.tocsr()\n",
    "c1=a1.dot(b1)\n",
    "print(c1.toarray())\n",
    "a2=a.tocsc()\n",
    "b2=b.tocsc()\n",
    "c2=a2.dot(b2)\n",
    "print(c2.toarray())"
   ]
  },
  {
   "cell_type": "code",
   "execution_count": 7,
   "metadata": {},
   "outputs": [
    {
     "name": "stdout",
     "output_type": "stream",
     "text": [
      "<class 'scipy.sparse.csr.csr_matrix'>\n",
      "<class 'scipy.sparse.csc.csc_matrix'>\n",
      "[[0. 0. 2. 0.]]\n",
      "[[0.]\n",
      " [0.]\n",
      " [3.]\n",
      " [4.]]\n",
      "<class 'scipy.sparse.csc.csc_matrix'>\n",
      "<class 'scipy.sparse.csr.csr_matrix'>\n"
     ]
    }
   ],
   "source": [
    "from scipy import sparse\n",
    "a=sparse.lil_matrix((4,4))\n",
    "a[0,1]=1\n",
    "a[1,2]=2\n",
    "a[2,3]=3\n",
    "a[3,3]=4\n",
    "a1=a.tocsr()\n",
    "a2=a.tocsc()\n",
    "print(type(a1))\n",
    "print(type(a2))\n",
    "\n",
    "b1=a1.getrow(1)\n",
    "print(b1.toarray())\n",
    "b2=a2.getcol(3)\n",
    "print(b2.toarray())\n",
    "print(type(a1.T))\n",
    "print(type(a2.T))\n"
   ]
  }
 ],
 "metadata": {
  "kernelspec": {
   "display_name": "Python 3",
   "language": "python",
   "name": "python3"
  },
  "language_info": {
   "codemirror_mode": {
    "name": "ipython",
    "version": 3
   },
   "file_extension": ".py",
   "mimetype": "text/x-python",
   "name": "python",
   "nbconvert_exporter": "python",
   "pygments_lexer": "ipython3",
   "version": "3.7.0"
  }
 },
 "nbformat": 4,
 "nbformat_minor": 2
}
